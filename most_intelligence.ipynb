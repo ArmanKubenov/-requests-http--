{
 "cells": [
  {
   "cell_type": "code",
   "execution_count": 1,
   "id": "0c531a98",
   "metadata": {},
   "outputs": [
    {
     "name": "stdout",
     "output_type": "stream",
     "text": [
      "{'Thanos': 100}\n"
     ]
    }
   ],
   "source": [
    "import requests\n",
    "\n",
    "url = \"https://akabab.github.io/superhero-api/api/all.json\"\n",
    "response = requests.get(url)\n",
    "all_heroes = response.json()\n",
    "\n",
    "my_heroes = ['Hulk', 'Captain America', 'Thanos']\n",
    "intelligence = {}\n",
    "for hero in all_heroes:\n",
    "  if hero['name'] in my_heroes:\n",
    "    intelligence[hero['name']] = hero['powerstats']['intelligence'] \n",
    "most_intelligence_hero = dict([max(intelligence.items(), key=lambda x: x[1])])\n",
    "print(most_intelligence_hero)"
   ]
  },
  {
   "cell_type": "code",
   "execution_count": null,
   "id": "0b3d4697",
   "metadata": {},
   "outputs": [],
   "source": []
  }
 ],
 "metadata": {
  "kernelspec": {
   "display_name": "Python 3 (ipykernel)",
   "language": "python",
   "name": "python3"
  },
  "language_info": {
   "codemirror_mode": {
    "name": "ipython",
    "version": 3
   },
   "file_extension": ".py",
   "mimetype": "text/x-python",
   "name": "python",
   "nbconvert_exporter": "python",
   "pygments_lexer": "ipython3",
   "version": "3.10.9"
  }
 },
 "nbformat": 4,
 "nbformat_minor": 5
}
